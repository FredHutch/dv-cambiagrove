{
 "cells": [
  {
   "cell_type": "markdown",
   "metadata": {},
   "source": [
    "# Single Cell Analysis - PCA Pipeline\n",
    "\n",
    "### Input(s): \n",
    "* AnnData file\n",
    "\n",
    "**Pre-Processing:** \n",
    "* Make var names unique -- specific to file? \n",
    "* Filter out cells with few genes - perforated cells? \n",
    "* Filter out genes with few cells - too rare? \n",
    "\n",
    "**PCA:** \n",
    "* Run PCA\n",
    "* Plot PCA results\n",
    "* Identify what the different anndata files are \n",
    "* Save files to CSV\n",
    "* Determine Number of Components Needed to Hit Desired Explained Variance Thresholds\n",
    "\n",
    "### Output(s):\n",
    "* CSV files for PCA data (4 files) -- I didn't code them all but there are 4 files that we could capture \n",
    "* Number of Components for desired explained variance thresholds -- I didn't actually export these numbers to files, but we could.  \n"
   ]
  },
  {
   "cell_type": "markdown",
   "metadata": {},
   "source": [
    "## Set-up"
   ]
  },
  {
   "cell_type": "code",
   "execution_count": 1,
   "metadata": {},
   "outputs": [],
   "source": [
    "# Imports\n",
    "import numpy as np\n",
    "import pandas as pd\n",
    "import scanpy as sc"
   ]
  },
  {
   "cell_type": "code",
   "execution_count": 2,
   "metadata": {},
   "outputs": [],
   "source": [
    "import matplotlib.pyplot as plt\n",
    "%matplotlib inline"
   ]
  },
  {
   "cell_type": "code",
   "execution_count": 3,
   "metadata": {},
   "outputs": [
    {
     "name": "stdout",
     "output_type": "stream",
     "text": [
      "scanpy==1.4.4.post1 anndata==0.6.22.post1 umap==0.3.10 numpy==1.16.4 scipy==1.3.1 pandas==0.25.1 scikit-learn==0.21.3 statsmodels==0.10.1\n"
     ]
    }
   ],
   "source": [
    "# Set ScanPy settings: \n",
    "# Set settings \n",
    "sc.settings.verbosity = 3             # verbosity: errors (0), warnings (1), info (2), hints (3)\n",
    "sc.logging.print_versions()\n",
    "sc.settings.set_figure_params(dpi=80)"
   ]
  },
  {
   "cell_type": "raw",
   "metadata": {},
   "source": [
    "# Download data - windows machines\n",
    "\n",
    "url = 'http://cf.10xgenomics.com/samples/cell-exp/1.1.0/pbmc3k/pbmc3k_filtered_gene_bc_matrices.tar.gz' \n",
    "pbmc3k_filtered_gene_bc_matrices = wget.download(url)\n",
    "pbmc3k_filtered_gene_bc_matrices"
   ]
  },
  {
   "cell_type": "raw",
   "metadata": {},
   "source": [
    "# Download data - unix machines\n",
    "\n",
    "!mkdir data\n",
    "!wget http://cf.10xgenomics.com/samples/cell-exp/1.1.0/pbmc3k/pbmc3k_filtered_gene_bc_matrices.tar.gz -O data/pbmc3k_filtered_gene_bc_matrices.tar.gz\n",
    "!cd data; tar -xzf pbmc3k_filtered_gene_bc_matrices.tar.gz"
   ]
  },
  {
   "cell_type": "code",
   "execution_count": 4,
   "metadata": {},
   "outputs": [],
   "source": [
    "# Set up results storage\n",
    "results_file = './write/pbmc3k.h5ad'  # the file that will store the analysis results"
   ]
  },
  {
   "cell_type": "code",
   "execution_count": 5,
   "metadata": {},
   "outputs": [
    {
     "name": "stdout",
     "output_type": "stream",
     "text": [
      "... writing an h5ad cache file to speedup reading next time\n"
     ]
    }
   ],
   "source": [
    "# Read file (.mtx)\n",
    "adata = sc.read_10x_mtx(\n",
    "    './data/filtered_gene_bc_matrices/hg19/',  # the directory with the `.mtx` file\n",
    "    var_names='gene_symbols',                  # use gene symbols for the variable names (variables-axis index)\n",
    "    cache=True)                                # write a cache file for faster subsequent reading"
   ]
  },
  {
   "cell_type": "markdown",
   "metadata": {},
   "source": [
    "## Pre-Processing"
   ]
  },
  {
   "cell_type": "code",
   "execution_count": 6,
   "metadata": {},
   "outputs": [],
   "source": [
    "# Process data \n",
    "adata.var_names_make_unique()  # this is unnecessary if using 'gene_ids'"
   ]
  },
  {
   "cell_type": "code",
   "execution_count": 7,
   "metadata": {},
   "outputs": [
    {
     "name": "stdout",
     "output_type": "stream",
     "text": [
      "filtered out 19024 genes that are detectedin less than 3 cells\n"
     ]
    }
   ],
   "source": [
    "# Filter genes - defaults from scanpy tutorial \n",
    "\n",
    "# Removes cells with less than 200 genes \n",
    "sc.pp.filter_cells(adata, min_genes=200)\n",
    "\n",
    "# Removes genes expressed in fewer than 3 cells \n",
    "sc.pp.filter_genes(adata, min_cells=3)\n"
   ]
  },
  {
   "cell_type": "markdown",
   "metadata": {},
   "source": [
    "## PCA\n",
    "\n",
    "### Note: We will need to choose the method: \n",
    "    \n",
    "   ``'arpack'`` - for the ARPACK wrapper in SciPy (:func:`~scipy.sparse.linalg.svds`) -- **Chosen in scanpy tutorial**\n",
    "\n",
    "   ``'randomized'`` - for the randomized algorithm due to Halko (2009).\n",
    "\n",
    "   ``'auto'`` (the default) - chooses automatically depending on the size of the problem."
   ]
  },
  {
   "cell_type": "code",
   "execution_count": 8,
   "metadata": {},
   "outputs": [
    {
     "name": "stdout",
     "output_type": "stream",
     "text": [
      "computing PCA with n_comps = 150\n",
      "    finished (0:00:07)\n"
     ]
    }
   ],
   "source": [
    "# Computes PCA on n components (looped from 1 to n # of components)  Default is 50 \n",
    "sc.tl.pca(adata, n_comps=150, svd_solver='arpack')"
   ]
  },
  {
   "cell_type": "code",
   "execution_count": 9,
   "metadata": {},
   "outputs": [],
   "source": [
    "# Save PCA results to anndata file\n",
    "adata.write(results_file)"
   ]
  },
  {
   "cell_type": "code",
   "execution_count": 10,
   "metadata": {},
   "outputs": [
    {
     "data": {
      "text/plain": [
       "AnnData object with n_obs × n_vars = 2700 × 13714 \n",
       "    obs: 'n_genes'\n",
       "    var: 'gene_ids', 'n_cells'\n",
       "    uns: 'pca'\n",
       "    obsm: 'X_pca'\n",
       "    varm: 'PCs'"
      ]
     },
     "execution_count": 10,
     "metadata": {},
     "output_type": "execute_result"
    }
   ],
   "source": [
    "# Can see that PCA is now saved in anndata file as uns, obsm, and varm\n",
    "adata"
   ]
  },
  {
   "cell_type": "markdown",
   "metadata": {},
   "source": [
    "## What exactly are these graphs showing? \n",
    "\n",
    "#### Graph 1: \n",
    "% Variance explained by each PC independently \n",
    "\n",
    "#### Graph 2: \n",
    "% variance explained by the sum of components up to n components used to do PCA. Number of components refers to n_comp in the PCA function. (I think?)\n",
    "https://towardsdatascience.com/an-approach-to-choosing-the-number-of-components-in-a-principal-component-analysis-pca-3b9f3d6e73fe"
   ]
  },
  {
   "cell_type": "code",
   "execution_count": 11,
   "metadata": {},
   "outputs": [
    {
     "data": {
      "text/plain": [
       "<Figure size 1200x400 with 0 Axes>"
      ]
     },
     "metadata": {},
     "output_type": "display_data"
    },
    {
     "data": {
      "image/png": "[encoded data removed]",
      "text/plain": [
       "<Figure size 320x320 with 1 Axes>"
      ]
     },
     "metadata": {
      "image/png": {
       "height": 321,
       "width": 307
      },
      "needs_background": "light"
     },
     "output_type": "display_data"
    }
   ],
   "source": [
    "# Visualize the PCA \n",
    "plt.figure(figsize=(15,5))                 # Doesn't work - not sure how to change figure size of scanpy plots\n",
    "sc.pl.pca_variance_ratio(adata, n_pcs = 150, log=True)"
   ]
  },
  {
   "cell_type": "code",
   "execution_count": 12,
   "metadata": {},
   "outputs": [],
   "source": [
    "ratio_exp_var = adata.uns['pca']['variance_ratio']"
   ]
  },
  {
   "cell_type": "code",
   "execution_count": 13,
   "metadata": {},
   "outputs": [
    {
     "data": {
      "image/png": "[encoded data removed]",
      "text/plain": [
       "<Figure size 1200x400 with 1 Axes>"
      ]
     },
     "metadata": {
      "image/png": {
       "height": 379,
       "width": 1002
      },
      "needs_background": "light"
     },
     "output_type": "display_data"
    }
   ],
   "source": [
    "plt.figure(figsize=(15,5))\n",
    "plt.plot(np.cumsum(ratio_exp_var))\n",
    "plt.xlabel('Number of Components')\n",
    "plt.ylabel('Variance (%)') #for each component\n",
    "plt.title('Pulsar Dataset Explained Variance')\n",
    "plt.show()"
   ]
  },
  {
   "cell_type": "markdown",
   "metadata": {},
   "source": [
    "## Save Data\n",
    "### How do we retrieve the data out of the AnnData file?  \n",
    "\n",
    "#### Saved in the adata file as:\n",
    "* adata.varm['PCs']: The principal components containing the loadings.\n",
    "* **adata.obsm['X_pca']:  PCA representation of data.                              - Cells by PC's** \n",
    "* **adata.uns['pca']['variance_ratio']: Ratio of explained variance.              - The info in the graph above** \n",
    "* adata.uns['pca']['variance']: Explained variance, equivalent to the eigenvalues of the covariance matrix.\n"
   ]
  },
  {
   "cell_type": "code",
   "execution_count": 14,
   "metadata": {},
   "outputs": [
    {
     "name": "stdout",
     "output_type": "stream",
     "text": [
      "[[ 2.84286616e-05 -2.20139809e-05 -7.07421495e-05 ... -3.59278405e-04\n",
      "  -3.50038346e-04 -7.87516241e-04]\n",
      " [ 1.75253217e-06 -4.58256125e-07  2.83645222e-05 ...  2.24315954e-06\n",
      "  -2.54661951e-04  2.06818295e-04]\n",
      " [ 2.79698252e-05  5.16286273e-05 -8.12312428e-05 ... -2.99571460e-04\n",
      "   6.43366366e-04 -3.75635776e-04]\n",
      " ...\n",
      " [ 6.60899459e-05 -1.90261267e-06  1.57142858e-05 ... -1.38739015e-05\n",
      "  -5.78524705e-05  6.15273078e-04]\n",
      " [ 1.23091042e-04  3.21010535e-04  2.47486692e-04 ... -1.69866078e-03\n",
      "  -3.37654608e-03  1.20435236e-03]\n",
      " [ 8.18571280e-05  2.58249725e-04  2.91546403e-05 ... -1.47237058e-03\n",
      "   2.05839309e-03 -3.41047329e-04]]\n",
      "(13714, 150)\n"
     ]
    }
   ],
   "source": [
    "# The principal components containing the loadings.\n",
    "# How each original feature relates to the PCs \n",
    "print(adata.varm['PCs'])\n",
    "print(adata.varm['PCs'].shape)"
   ]
  },
  {
   "cell_type": "code",
   "execution_count": 15,
   "metadata": {},
   "outputs": [
    {
     "name": "stdout",
     "output_type": "stream",
     "text": [
      "[[-1.3064006e+01  3.9604553e+01  1.6049585e+00 ...  1.9154000e+00\n",
      "   2.0763233e-02  2.0929022e+00]\n",
      " [ 4.8335049e+01  1.9730681e+02 -1.0306381e+01 ... -2.9277875e+00\n",
      "   4.4265962e+00 -8.2372332e-01]\n",
      " [ 7.2714424e+00  7.9562889e+01  8.7014778e+01 ... -9.9528357e-02\n",
      "  -1.0297019e+00 -6.7787051e-01]\n",
      " ...\n",
      " [-2.6113333e+01 -2.4414040e+01 -2.3469309e+01 ... -2.6027793e-03\n",
      "  -3.5228770e-02  4.0663071e+00]\n",
      " [-6.3817230e+01 -4.7973904e+01  2.9616194e+01 ... -1.9423336e+00\n",
      "  -1.1663537e+00  5.6143265e-02]\n",
      " [-3.2456547e+01  7.8955574e+00 -1.4203667e+01 ... -6.7512488e-01\n",
      "  -3.0558453e+00  3.8591743e-01]]\n",
      "(2700, 150)\n"
     ]
    }
   ],
   "source": [
    "# Cells (rows) x PCs (columns)\n",
    "print(adata.obsm['X_pca'])\n",
    "print(adata.obsm['X_pca'].shape)"
   ]
  },
  {
   "cell_type": "code",
   "execution_count": 16,
   "metadata": {},
   "outputs": [
    {
     "data": {
      "text/plain": [
       "{'variance': array([4825.75     , 3806.7622   , 1027.0624   ,  703.888    ,\n",
       "         499.65115  ,  454.40884  ,  305.02136  ,  236.64684  ,\n",
       "         194.89714  ,  125.34208  ,  105.473625 ,   94.26744  ,\n",
       "          90.29484  ,   87.824104 ,   85.57963  ,   82.97815  ,\n",
       "          77.283264 ,   71.14805  ,   68.01175  ,   64.269394 ,\n",
       "          62.268032 ,   55.721203 ,   54.2008   ,   52.617573 ,\n",
       "          51.743927 ,   49.376194 ,   48.630436 ,   46.21003  ,\n",
       "          44.417274 ,   42.187218 ,   41.83455  ,   41.53772  ,\n",
       "          40.100155 ,   39.44977  ,   37.87899  ,   37.76616  ,\n",
       "          37.170357 ,   36.954544 ,   36.208958 ,   35.62994  ,\n",
       "          35.430206 ,   34.022903 ,   33.24485  ,   32.95978  ,\n",
       "          32.398266 ,   31.543633 ,   30.652275 ,   30.089935 ,\n",
       "          29.340195 ,   28.694403 ,   28.469213 ,   27.804493 ,\n",
       "          27.368305 ,   26.711685 ,   26.398073 ,   25.962833 ,\n",
       "          25.525646 ,   25.334747 ,   24.954445 ,   24.558155 ,\n",
       "          24.435654 ,   24.231886 ,   23.29072  ,   23.111084 ,\n",
       "          22.366533 ,   21.611526 ,   21.37564  ,   21.15808  ,\n",
       "          20.782549 ,   20.594704 ,   20.109049 ,   19.983646 ,\n",
       "          19.567144 ,   19.154587 ,   18.906174 ,   18.587698 ,\n",
       "          18.271585 ,   17.724552 ,   17.544455 ,   17.12138  ,\n",
       "          17.008545 ,   16.931864 ,   16.59312  ,   16.372166 ,\n",
       "          16.161798 ,   15.840208 ,   15.490929 ,   15.414102 ,\n",
       "          15.209352 ,   15.002453 ,   14.7257805,   14.657701 ,\n",
       "          14.319933 ,   14.227558 ,   13.827625 ,   13.627545 ,\n",
       "          13.541666 ,   13.251043 ,   13.205767 ,   13.079033 ,\n",
       "          12.970308 ,   12.912902 ,   12.783177 ,   12.588874 ,\n",
       "          12.397605 ,   12.269487 ,   12.048736 ,   11.942896 ,\n",
       "          11.8343725,   11.658109 ,   11.514298 ,   11.444725 ,\n",
       "          11.327421 ,   11.173685 ,   11.032656 ,   10.888905 ,\n",
       "          10.774564 ,   10.667019 ,   10.568338 ,   10.404542 ,\n",
       "          10.333402 ,   10.168561 ,   10.1112385,   10.030147 ,\n",
       "           9.886217 ,    9.795578 ,    9.68793  ,    9.645424 ,\n",
       "           9.521532 ,    9.322282 ,    9.19216  ,    9.076774 ,\n",
       "           8.990412 ,    8.933673 ,    8.886972 ,    8.82421  ,\n",
       "           8.798917 ,    8.654359 ,    8.614007 ,    8.45065  ,\n",
       "           8.365467 ,    8.302079 ,    8.208538 ,    8.19324  ,\n",
       "           8.1382675,    8.01781  ,    7.9585953,    7.8287725,\n",
       "           7.809735 ,    7.7600064], dtype=float32),\n",
       " 'variance_ratio': array([0.2683679 , 0.2117003 , 0.05711663, 0.03914437, 0.02778642,\n",
       "        0.02527042, 0.01696274, 0.01316032, 0.01083855, 0.00697048,\n",
       "        0.00586556, 0.00524237, 0.00502144, 0.00488404, 0.00475922,\n",
       "        0.00461455, 0.00429785, 0.00395666, 0.00378225, 0.00357413,\n",
       "        0.00346283, 0.00309875, 0.0030142 , 0.00292615, 0.00287756,\n",
       "        0.00274589, 0.00270442, 0.00256982, 0.00247012, 0.0023461 ,\n",
       "        0.00232649, 0.00230998, 0.00223004, 0.00219387, 0.00210651,\n",
       "        0.00210024, 0.0020671 , 0.0020551 , 0.00201364, 0.00198144,\n",
       "        0.00197033, 0.00189207, 0.0018488 , 0.00183295, 0.00180172,\n",
       "        0.00175419, 0.00170462, 0.00167335, 0.00163166, 0.00159574,\n",
       "        0.00158322, 0.00154625, 0.001522  , 0.00148548, 0.00146804,\n",
       "        0.00144384, 0.00141952, 0.00140891, 0.00138776, 0.00136572,\n",
       "        0.00135891, 0.00134757, 0.00129524, 0.00128525, 0.00124384,\n",
       "        0.00120185, 0.00118873, 0.00117664, 0.00115575, 0.00114531,\n",
       "        0.0011183 , 0.00111132, 0.00108816, 0.00106522, 0.0010514 ,\n",
       "        0.00103369, 0.00101611, 0.00098569, 0.00097568, 0.00095215,\n",
       "        0.00094587, 0.00094161, 0.00092277, 0.00091048, 0.00089878,\n",
       "        0.0008809 , 0.00086148, 0.0008572 , 0.00084582, 0.00083431,\n",
       "        0.00081892, 0.00081514, 0.00079636, 0.00079122, 0.00076898,\n",
       "        0.00075785, 0.00075307, 0.00073691, 0.00073439, 0.00072735,\n",
       "        0.0007213 , 0.00071811, 0.00071089, 0.00070009, 0.00068945,\n",
       "        0.00068233, 0.00067005, 0.00066416, 0.00065813, 0.00064833,\n",
       "        0.00064033, 0.00063646, 0.00062994, 0.00062139, 0.00061354,\n",
       "        0.00060555, 0.00059919, 0.00059321, 0.00058772, 0.00057861,\n",
       "        0.00057466, 0.00056549, 0.0005623 , 0.00055779, 0.00054979,\n",
       "        0.00054475, 0.00053876, 0.0005364 , 0.00052951, 0.00051843,\n",
       "        0.00051119, 0.00050477, 0.00049997, 0.00049682, 0.00049422,\n",
       "        0.00049073, 0.00048932, 0.00048128, 0.00047904, 0.00046995,\n",
       "        0.00046522, 0.00046169, 0.00045649, 0.00045564, 0.00045258,\n",
       "        0.00044588, 0.00044259, 0.00043537, 0.00043431, 0.00043155],\n",
       "       dtype=float32)}"
      ]
     },
     "execution_count": 16,
     "metadata": {},
     "output_type": "execute_result"
    }
   ],
   "source": [
    "adata.uns['pca']"
   ]
  },
  {
   "cell_type": "code",
   "execution_count": 17,
   "metadata": {},
   "outputs": [
    {
     "data": {
      "text/plain": [
       "(150,)"
      ]
     },
     "execution_count": 17,
     "metadata": {},
     "output_type": "execute_result"
    }
   ],
   "source": [
    "adata.uns['pca']['variance_ratio'].shape"
   ]
  },
  {
   "cell_type": "code",
   "execution_count": 18,
   "metadata": {},
   "outputs": [
    {
     "data": {
      "text/plain": [
       "(150,)"
      ]
     },
     "execution_count": 18,
     "metadata": {},
     "output_type": "execute_result"
    }
   ],
   "source": [
    "adata.uns['pca']['variance'].shape"
   ]
  },
  {
   "cell_type": "code",
   "execution_count": 19,
   "metadata": {},
   "outputs": [
    {
     "data": {
      "text/plain": [
       "(2700, 13714)"
      ]
     },
     "execution_count": 19,
     "metadata": {},
     "output_type": "execute_result"
    }
   ],
   "source": [
    "adata.X.shape"
   ]
  },
  {
   "cell_type": "markdown",
   "metadata": {},
   "source": [
    "Raw dat (adata.X) has 2700 rows (cells) by 13714 columns (genes) "
   ]
  },
  {
   "cell_type": "markdown",
   "metadata": {},
   "source": [
    "### Can we save it as a csv?"
   ]
  },
  {
   "cell_type": "code",
   "execution_count": 20,
   "metadata": {},
   "outputs": [
    {
     "data": {
      "text/html": [
       "<div>\n",
       "<style scoped>\n",
       "    .dataframe tbody tr th:only-of-type {\n",
       "        vertical-align: middle;\n",
       "    }\n",
       "\n",
       "    .dataframe tbody tr th {\n",
       "        vertical-align: top;\n",
       "    }\n",
       "\n",
       "    .dataframe thead th {\n",
       "        text-align: right;\n",
       "    }\n",
       "</style>\n",
       "<table border=\"1\" class=\"dataframe\">\n",
       "  <thead>\n",
       "    <tr style=\"text-align: right;\">\n",
       "      <th></th>\n",
       "      <th>0</th>\n",
       "      <th>1</th>\n",
       "      <th>2</th>\n",
       "      <th>3</th>\n",
       "      <th>4</th>\n",
       "      <th>5</th>\n",
       "      <th>6</th>\n",
       "      <th>7</th>\n",
       "      <th>8</th>\n",
       "      <th>9</th>\n",
       "      <th>...</th>\n",
       "      <th>140</th>\n",
       "      <th>141</th>\n",
       "      <th>142</th>\n",
       "      <th>143</th>\n",
       "      <th>144</th>\n",
       "      <th>145</th>\n",
       "      <th>146</th>\n",
       "      <th>147</th>\n",
       "      <th>148</th>\n",
       "      <th>149</th>\n",
       "    </tr>\n",
       "  </thead>\n",
       "  <tbody>\n",
       "    <tr>\n",
       "      <td>0</td>\n",
       "      <td>-13.064006</td>\n",
       "      <td>39.604553</td>\n",
       "      <td>1.604959</td>\n",
       "      <td>15.111597</td>\n",
       "      <td>-25.892981</td>\n",
       "      <td>-16.018368</td>\n",
       "      <td>-12.284206</td>\n",
       "      <td>-10.061439</td>\n",
       "      <td>-5.809294</td>\n",
       "      <td>9.470128</td>\n",
       "      <td>...</td>\n",
       "      <td>-2.399064</td>\n",
       "      <td>2.112183</td>\n",
       "      <td>-3.543139</td>\n",
       "      <td>1.156247</td>\n",
       "      <td>1.511254</td>\n",
       "      <td>3.128959</td>\n",
       "      <td>-2.055423</td>\n",
       "      <td>1.915400</td>\n",
       "      <td>0.020763</td>\n",
       "      <td>2.092902</td>\n",
       "    </tr>\n",
       "    <tr>\n",
       "      <td>1</td>\n",
       "      <td>48.335049</td>\n",
       "      <td>197.306808</td>\n",
       "      <td>-10.306381</td>\n",
       "      <td>-5.239503</td>\n",
       "      <td>36.738125</td>\n",
       "      <td>30.993454</td>\n",
       "      <td>-11.283892</td>\n",
       "      <td>-17.620258</td>\n",
       "      <td>10.361117</td>\n",
       "      <td>32.605453</td>\n",
       "      <td>...</td>\n",
       "      <td>-3.179463</td>\n",
       "      <td>-1.557573</td>\n",
       "      <td>3.087320</td>\n",
       "      <td>1.649820</td>\n",
       "      <td>-1.673345</td>\n",
       "      <td>-7.218343</td>\n",
       "      <td>3.944253</td>\n",
       "      <td>-2.927788</td>\n",
       "      <td>4.426596</td>\n",
       "      <td>-0.823723</td>\n",
       "    </tr>\n",
       "    <tr>\n",
       "      <td>2</td>\n",
       "      <td>7.271442</td>\n",
       "      <td>79.562889</td>\n",
       "      <td>87.014778</td>\n",
       "      <td>-11.336234</td>\n",
       "      <td>44.660900</td>\n",
       "      <td>-9.391830</td>\n",
       "      <td>46.015282</td>\n",
       "      <td>25.426220</td>\n",
       "      <td>-29.040440</td>\n",
       "      <td>-11.727970</td>\n",
       "      <td>...</td>\n",
       "      <td>-0.545988</td>\n",
       "      <td>1.929548</td>\n",
       "      <td>-1.033858</td>\n",
       "      <td>0.351665</td>\n",
       "      <td>4.343943</td>\n",
       "      <td>-0.797086</td>\n",
       "      <td>-2.007130</td>\n",
       "      <td>-0.099528</td>\n",
       "      <td>-1.029702</td>\n",
       "      <td>-0.677871</td>\n",
       "    </tr>\n",
       "    <tr>\n",
       "      <td>3</td>\n",
       "      <td>101.248085</td>\n",
       "      <td>-62.092415</td>\n",
       "      <td>1.788578</td>\n",
       "      <td>10.121469</td>\n",
       "      <td>-23.159645</td>\n",
       "      <td>19.747732</td>\n",
       "      <td>-2.927417</td>\n",
       "      <td>36.400017</td>\n",
       "      <td>-32.641140</td>\n",
       "      <td>-13.073549</td>\n",
       "      <td>...</td>\n",
       "      <td>2.469931</td>\n",
       "      <td>2.235608</td>\n",
       "      <td>-4.214557</td>\n",
       "      <td>-0.130077</td>\n",
       "      <td>-1.229805</td>\n",
       "      <td>-1.360574</td>\n",
       "      <td>-0.695994</td>\n",
       "      <td>-2.131111</td>\n",
       "      <td>2.999618</td>\n",
       "      <td>-0.445487</td>\n",
       "    </tr>\n",
       "    <tr>\n",
       "      <td>4</td>\n",
       "      <td>-51.232922</td>\n",
       "      <td>-89.205711</td>\n",
       "      <td>8.749825</td>\n",
       "      <td>25.339937</td>\n",
       "      <td>-11.548215</td>\n",
       "      <td>0.723611</td>\n",
       "      <td>2.129119</td>\n",
       "      <td>-8.448786</td>\n",
       "      <td>10.422194</td>\n",
       "      <td>-2.777639</td>\n",
       "      <td>...</td>\n",
       "      <td>-0.997098</td>\n",
       "      <td>-1.204047</td>\n",
       "      <td>1.569954</td>\n",
       "      <td>-1.405565</td>\n",
       "      <td>-0.637931</td>\n",
       "      <td>0.590850</td>\n",
       "      <td>-1.336690</td>\n",
       "      <td>-1.419297</td>\n",
       "      <td>2.505615</td>\n",
       "      <td>1.456226</td>\n",
       "    </tr>\n",
       "  </tbody>\n",
       "</table>\n",
       "<p>5 rows × 150 columns</p>\n",
       "</div>"
      ],
      "text/plain": [
       "          0           1          2          3          4          5    \\\n",
       "0  -13.064006   39.604553   1.604959  15.111597 -25.892981 -16.018368   \n",
       "1   48.335049  197.306808 -10.306381  -5.239503  36.738125  30.993454   \n",
       "2    7.271442   79.562889  87.014778 -11.336234  44.660900  -9.391830   \n",
       "3  101.248085  -62.092415   1.788578  10.121469 -23.159645  19.747732   \n",
       "4  -51.232922  -89.205711   8.749825  25.339937 -11.548215   0.723611   \n",
       "\n",
       "         6          7          8          9    ...       140       141  \\\n",
       "0 -12.284206 -10.061439  -5.809294   9.470128  ... -2.399064  2.112183   \n",
       "1 -11.283892 -17.620258  10.361117  32.605453  ... -3.179463 -1.557573   \n",
       "2  46.015282  25.426220 -29.040440 -11.727970  ... -0.545988  1.929548   \n",
       "3  -2.927417  36.400017 -32.641140 -13.073549  ...  2.469931  2.235608   \n",
       "4   2.129119  -8.448786  10.422194  -2.777639  ... -0.997098 -1.204047   \n",
       "\n",
       "        142       143       144       145       146       147       148  \\\n",
       "0 -3.543139  1.156247  1.511254  3.128959 -2.055423  1.915400  0.020763   \n",
       "1  3.087320  1.649820 -1.673345 -7.218343  3.944253 -2.927788  4.426596   \n",
       "2 -1.033858  0.351665  4.343943 -0.797086 -2.007130 -0.099528 -1.029702   \n",
       "3 -4.214557 -0.130077 -1.229805 -1.360574 -0.695994 -2.131111  2.999618   \n",
       "4  1.569954 -1.405565 -0.637931  0.590850 -1.336690 -1.419297  2.505615   \n",
       "\n",
       "        149  \n",
       "0  2.092902  \n",
       "1 -0.823723  \n",
       "2 -0.677871  \n",
       "3 -0.445487  \n",
       "4  1.456226  \n",
       "\n",
       "[5 rows x 150 columns]"
      ]
     },
     "execution_count": 20,
     "metadata": {},
     "output_type": "execute_result"
    }
   ],
   "source": [
    "data = adata.obsm['X_pca']\n",
    "df = pd.DataFrame(data)\n",
    "df.head()"
   ]
  },
  {
   "cell_type": "code",
   "execution_count": 21,
   "metadata": {},
   "outputs": [],
   "source": [
    "df.to_csv('pbmc3k_X_pca.csv')"
   ]
  },
  {
   "cell_type": "markdown",
   "metadata": {},
   "source": [
    "### How do we set thresholds on explained variance? "
   ]
  },
  {
   "cell_type": "code",
   "execution_count": 22,
   "metadata": {},
   "outputs": [
    {
     "data": {
      "text/html": [
       "<div>\n",
       "<style scoped>\n",
       "    .dataframe tbody tr th:only-of-type {\n",
       "        vertical-align: middle;\n",
       "    }\n",
       "\n",
       "    .dataframe tbody tr th {\n",
       "        vertical-align: top;\n",
       "    }\n",
       "\n",
       "    .dataframe thead th {\n",
       "        text-align: right;\n",
       "    }\n",
       "</style>\n",
       "<table border=\"1\" class=\"dataframe\">\n",
       "  <thead>\n",
       "    <tr style=\"text-align: right;\">\n",
       "      <th></th>\n",
       "      <th>Explained_Variance</th>\n",
       "      <th>No_Components</th>\n",
       "    </tr>\n",
       "  </thead>\n",
       "  <tbody>\n",
       "    <tr>\n",
       "      <td>145</td>\n",
       "      <td>0.870751</td>\n",
       "      <td>145</td>\n",
       "    </tr>\n",
       "    <tr>\n",
       "      <td>146</td>\n",
       "      <td>0.871193</td>\n",
       "      <td>146</td>\n",
       "    </tr>\n",
       "    <tr>\n",
       "      <td>147</td>\n",
       "      <td>0.871629</td>\n",
       "      <td>147</td>\n",
       "    </tr>\n",
       "    <tr>\n",
       "      <td>148</td>\n",
       "      <td>0.872063</td>\n",
       "      <td>148</td>\n",
       "    </tr>\n",
       "    <tr>\n",
       "      <td>149</td>\n",
       "      <td>0.872494</td>\n",
       "      <td>149</td>\n",
       "    </tr>\n",
       "  </tbody>\n",
       "</table>\n",
       "</div>"
      ],
      "text/plain": [
       "     Explained_Variance  No_Components\n",
       "145            0.870751            145\n",
       "146            0.871193            146\n",
       "147            0.871629            147\n",
       "148            0.872063            148\n",
       "149            0.872494            149"
      ]
     },
     "execution_count": 22,
     "metadata": {},
     "output_type": "execute_result"
    }
   ],
   "source": [
    "df2 = pd.DataFrame(np.cumsum(ratio_exp_var),columns=['Explained_Variance'])\n",
    "df2.sort_values(by='Explained_Variance')\n",
    "df2['No_Components'] = [x for x in range(150)]\n",
    "df2.tail()"
   ]
  },
  {
   "cell_type": "code",
   "execution_count": 23,
   "metadata": {},
   "outputs": [
    {
     "data": {
      "text/html": [
       "<div>\n",
       "<style scoped>\n",
       "    .dataframe tbody tr th:only-of-type {\n",
       "        vertical-align: middle;\n",
       "    }\n",
       "\n",
       "    .dataframe tbody tr th {\n",
       "        vertical-align: top;\n",
       "    }\n",
       "\n",
       "    .dataframe thead th {\n",
       "        text-align: right;\n",
       "    }\n",
       "</style>\n",
       "<table border=\"1\" class=\"dataframe\">\n",
       "  <thead>\n",
       "    <tr style=\"text-align: right;\">\n",
       "      <th></th>\n",
       "      <th>Explained_Variance</th>\n",
       "      <th>No_Components</th>\n",
       "    </tr>\n",
       "  </thead>\n",
       "  <tbody>\n",
       "    <tr>\n",
       "      <td>count</td>\n",
       "      <td>150.000000</td>\n",
       "      <td>150.000000</td>\n",
       "    </tr>\n",
       "    <tr>\n",
       "      <td>mean</td>\n",
       "      <td>0.798344</td>\n",
       "      <td>74.500000</td>\n",
       "    </tr>\n",
       "    <tr>\n",
       "      <td>std</td>\n",
       "      <td>0.082419</td>\n",
       "      <td>43.445368</td>\n",
       "    </tr>\n",
       "    <tr>\n",
       "      <td>min</td>\n",
       "      <td>0.268368</td>\n",
       "      <td>0.000000</td>\n",
       "    </tr>\n",
       "    <tr>\n",
       "      <td>25%</td>\n",
       "      <td>0.769425</td>\n",
       "      <td>37.250000</td>\n",
       "    </tr>\n",
       "    <tr>\n",
       "      <td>50%</td>\n",
       "      <td>0.823603</td>\n",
       "      <td>74.500000</td>\n",
       "    </tr>\n",
       "    <tr>\n",
       "      <td>75%</td>\n",
       "      <td>0.853261</td>\n",
       "      <td>111.750000</td>\n",
       "    </tr>\n",
       "    <tr>\n",
       "      <td>max</td>\n",
       "      <td>0.872494</td>\n",
       "      <td>149.000000</td>\n",
       "    </tr>\n",
       "  </tbody>\n",
       "</table>\n",
       "</div>"
      ],
      "text/plain": [
       "       Explained_Variance  No_Components\n",
       "count          150.000000     150.000000\n",
       "mean             0.798344      74.500000\n",
       "std              0.082419      43.445368\n",
       "min              0.268368       0.000000\n",
       "25%              0.769425      37.250000\n",
       "50%              0.823603      74.500000\n",
       "75%              0.853261     111.750000\n",
       "max              0.872494     149.000000"
      ]
     },
     "execution_count": 23,
     "metadata": {},
     "output_type": "execute_result"
    }
   ],
   "source": [
    "df2.describe()"
   ]
  },
  {
   "cell_type": "markdown",
   "metadata": {},
   "source": [
    "### Function to return number of components for a given threshold"
   ]
  },
  {
   "cell_type": "code",
   "execution_count": 24,
   "metadata": {},
   "outputs": [],
   "source": [
    "def choose_num_components(threshold,df): \n",
    "    for n in range(len(df)): \n",
    "        if df['Explained_Variance'][n] >= threshold: \n",
    "            result = df['No_Components'][n]\n",
    "            break\n",
    "    return result"
   ]
  },
  {
   "cell_type": "code",
   "execution_count": 25,
   "metadata": {},
   "outputs": [
    {
     "data": {
      "text/plain": [
       "14"
      ]
     },
     "execution_count": 25,
     "metadata": {},
     "output_type": "execute_result"
    }
   ],
   "source": [
    "choose_num_components(.7,df2)"
   ]
  },
  {
   "cell_type": "code",
   "execution_count": 26,
   "metadata": {},
   "outputs": [
    {
     "data": {
      "text/plain": [
       "56"
      ]
     },
     "execution_count": 26,
     "metadata": {},
     "output_type": "execute_result"
    }
   ],
   "source": [
    "choose_num_components(.8,df2)"
   ]
  },
  {
   "cell_type": "markdown",
   "metadata": {},
   "source": [
    "### Should we be saving something different here after we choose the number of components? "
   ]
  },
  {
   "cell_type": "markdown",
   "metadata": {},
   "source": [
    "## Next: Run tSNE and UMAP with selected number of components"
   ]
  },
  {
   "cell_type": "code",
   "execution_count": null,
   "metadata": {},
   "outputs": [],
   "source": []
  },
  {
   "cell_type": "code",
   "execution_count": null,
   "metadata": {},
   "outputs": [],
   "source": []
  },
  {
   "cell_type": "code",
   "execution_count": null,
   "metadata": {},
   "outputs": [],
   "source": []
  },
  {
   "cell_type": "markdown",
   "metadata": {},
   "source": [
    "### Old Code/ This didn't work\n",
    "\n",
    "Is the ratio of explained variance the same as the variance amount for component divided by the sum of all the variances? \n",
    "\n",
    "... does not appear to be?"
   ]
  },
  {
   "cell_type": "code",
   "execution_count": null,
   "metadata": {},
   "outputs": [],
   "source": [
    "ratio_exp_var = adata.uns['pca']['variance_ratio']\n",
    "df_ratio = pd.DataFrame(ratio_exp_var)\n",
    "df_ratio.sort_values(by=0,ascending=False).head()"
   ]
  },
  {
   "cell_type": "code",
   "execution_count": null,
   "metadata": {},
   "outputs": [],
   "source": [
    "exp_var = adata.uns['pca']['variance']\n",
    "df_EV = pd.DataFrame(exp_var)\n",
    "df_EV.sort_values(by=0,ascending=False).head()"
   ]
  },
  {
   "cell_type": "code",
   "execution_count": null,
   "metadata": {},
   "outputs": [],
   "source": [
    "total_variance = df_EV[0].sum()\n",
    "total_variance"
   ]
  },
  {
   "cell_type": "code",
   "execution_count": null,
   "metadata": {},
   "outputs": [],
   "source": [
    "4825/total_variance"
   ]
  }
 ],
 "metadata": {
  "kernelspec": {
   "display_name": "Python 3",
   "language": "python",
   "name": "python3"
  },
  "language_info": {
   "codemirror_mode": {
    "name": "ipython",
    "version": 3
   },
   "file_extension": ".py",
   "mimetype": "text/x-python",
   "name": "python",
   "nbconvert_exporter": "python",
   "pygments_lexer": "ipython3",
   "version": "3.6.9"
  }
 },
 "nbformat": 4,
 "nbformat_minor": 2
}
